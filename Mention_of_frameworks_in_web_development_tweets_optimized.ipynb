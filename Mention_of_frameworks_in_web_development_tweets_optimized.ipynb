{
  "nbformat": 4,
  "nbformat_minor": 0,
  "metadata": {
    "kernelspec": {
      "display_name": "Python 3",
      "language": "python",
      "name": "python3"
    },
    "language_info": {
      "codemirror_mode": {
        "name": "ipython",
        "version": 3
      },
      "file_extension": ".py",
      "mimetype": "text/x-python",
      "name": "python",
      "nbconvert_exporter": "python",
      "pygments_lexer": "ipython3",
      "version": "3.7.3"
    },
    "colab": {
      "name": "Mention_of_frameworks_in_web_development_tweets_optimized.ipynb",
      "provenance": [],
      "collapsed_sections": [],
      "include_colab_link": true
    }
  },
  "cells": [
    {
      "cell_type": "markdown",
      "metadata": {
        "id": "view-in-github",
        "colab_type": "text"
      },
      "source": [
        "<a href=\"https://colab.research.google.com/github/Nivratti/DataTables/blob/master/Mention_of_frameworks_in_web_development_tweets_optimized.ipynb\" target=\"_parent\"><img src=\"https://colab.research.google.com/assets/colab-badge.svg\" alt=\"Open In Colab\"/></a>"
      ]
    },
    {
      "cell_type": "code",
      "metadata": {
        "id": "O-jABMn9ymKx",
        "colab_type": "code",
        "colab": {}
      },
      "source": [
        "import pandas as pd"
      ],
      "execution_count": 0,
      "outputs": []
    },
    {
      "cell_type": "code",
      "metadata": {
        "id": "OP0-1qguymLn",
        "colab_type": "code",
        "outputId": "7b7ac13d-f121-4d53-b431-add3aad87993",
        "colab": {
          "base_uri": "https://localhost:8080/",
          "height": 197
        }
      },
      "source": [
        "data = pd.read_csv('/content/data.csv')\n",
        "data.head()"
      ],
      "execution_count": 17,
      "outputs": [
        {
          "output_type": "execute_result",
          "data": {
            "text/html": [
              "<div>\n",
              "<style scoped>\n",
              "    .dataframe tbody tr th:only-of-type {\n",
              "        vertical-align: middle;\n",
              "    }\n",
              "\n",
              "    .dataframe tbody tr th {\n",
              "        vertical-align: top;\n",
              "    }\n",
              "\n",
              "    .dataframe thead th {\n",
              "        text-align: right;\n",
              "    }\n",
              "</style>\n",
              "<table border=\"1\" class=\"dataframe\">\n",
              "  <thead>\n",
              "    <tr style=\"text-align: right;\">\n",
              "      <th></th>\n",
              "      <th>id</th>\n",
              "      <th>tweet_id</th>\n",
              "      <th>fulltext</th>\n",
              "      <th>timeanddate</th>\n",
              "      <th>url</th>\n",
              "      <th>userid</th>\n",
              "      <th>username</th>\n",
              "    </tr>\n",
              "  </thead>\n",
              "  <tbody>\n",
              "    <tr>\n",
              "      <th>0</th>\n",
              "      <td>0</td>\n",
              "      <td>1.205370e+18</td>\n",
              "      <td>#R2D29 to #R2D36\\nThis week I was practicing v...</td>\n",
              "      <td>Fri Dec 13 05:57:14 +0000 2019</td>\n",
              "      <td>https://twitter.com/i/web/status/1205366043805...</td>\n",
              "      <td>Yoona8_</td>\n",
              "      <td>Elena Valeeva</td>\n",
              "    </tr>\n",
              "    <tr>\n",
              "      <th>1</th>\n",
              "      <td>1</td>\n",
              "      <td>1.205370e+18</td>\n",
              "      <td>@MysoreAkshay @_100DaysOfCode Absolutely, let'...</td>\n",
              "      <td>Fri Dec 13 05:55:50 +0000 2019</td>\n",
              "      <td>https://twitter.com/i/web/status/1205365693568...</td>\n",
              "      <td>jasontheskeptic</td>\n",
              "      <td>JTskeptic</td>\n",
              "    </tr>\n",
              "    <tr>\n",
              "      <th>2</th>\n",
              "      <td>2</td>\n",
              "      <td>1.205370e+18</td>\n",
              "      <td>Day 38 #100DaysOfCode Practiced @Codecademy cs...</td>\n",
              "      <td>Fri Dec 13 05:54:01 +0000 2019</td>\n",
              "      <td>https://twitter.com/i/web/status/1205365236724...</td>\n",
              "      <td>Maurice19266591</td>\n",
              "      <td>Maurice Cooper</td>\n",
              "    </tr>\n",
              "    <tr>\n",
              "      <th>3</th>\n",
              "      <td>3</td>\n",
              "      <td>1.205370e+18</td>\n",
              "      <td>Some awesome tips on a career in software engi...</td>\n",
              "      <td>Fri Dec 13 05:53:52 +0000 2019</td>\n",
              "      <td>https://twitter.com/i/web/status/1205365199823...</td>\n",
              "      <td>sophia_wyl</td>\n",
              "      <td>Sophia Li</td>\n",
              "    </tr>\n",
              "    <tr>\n",
              "      <th>4</th>\n",
              "      <td>4</td>\n",
              "      <td>1.205360e+18</td>\n",
              "      <td>How much do engineers REALLY make in each city...</td>\n",
              "      <td>Fri Dec 13 05:53:00 +0000 2019</td>\n",
              "      <td>https://twitter.com/i/web/status/1205364981425...</td>\n",
              "      <td>CodementorIO</td>\n",
              "      <td>Codementor</td>\n",
              "    </tr>\n",
              "  </tbody>\n",
              "</table>\n",
              "</div>"
            ],
            "text/plain": [
              "   id      tweet_id  ...           userid        username\n",
              "0   0  1.205370e+18  ...          Yoona8_   Elena Valeeva\n",
              "1   1  1.205370e+18  ...  jasontheskeptic       JTskeptic\n",
              "2   2  1.205370e+18  ...  Maurice19266591  Maurice Cooper\n",
              "3   3  1.205370e+18  ...       sophia_wyl       Sophia Li\n",
              "4   4  1.205360e+18  ...     CodementorIO      Codementor\n",
              "\n",
              "[5 rows x 7 columns]"
            ]
          },
          "metadata": {
            "tags": []
          },
          "execution_count": 17
        }
      ]
    },
    {
      "cell_type": "code",
      "metadata": {
        "id": "USHBA0kc05Lm",
        "colab_type": "code",
        "colab": {}
      },
      "source": [
        "# Instead of storing frameworks list in separate variable store it in dictionary\n",
        "# it will reduce code length while manipulating\n",
        "\n",
        "frameworks = {\n",
        "    \"react\": ['react', 'reactJS', 'reactjs', 'React','#react', '#reactJS', '#reactjs', '#React'],\n",
        "    \"angular\": [\n",
        "        '#angular', '#angularjs', '#angularJS', '#Angular', '#AngularJS', '#Angular2', \n",
        "        '#Angular2.0','angular', 'angularjs', 'angularJS', 'Angular', 'AngularJS', \n",
        "        'Angular2', 'Angular2.0'\n",
        "    ],\n",
        "    \"cakephp\": [\n",
        "        'cakephp', 'CakePHP', 'cakePhp', 'CakePhp','#cakephp', '#CakePHP', '#cakePhp', '#CakePhp'\n",
        "    ],\n",
        "    \"laravel\": ['laravel', 'Laravel','#laravel', '#Laravel'],\n",
        "    \"rails\": [\n",
        "        'rails', 'Rails', 'RubyonRails', 'rubyonrails','RubyOnRails','#rails', '#Rails', \n",
        "        '#RubyonRails', '#rubyonrails', '#RubyOnRails'\n",
        "    ],\n",
        "    \"asp\": ['ASP.net', 'ASP.NET', 'asp', 'ASP', '#ASP.net', '#ASP.NET', '#asp', '#ASP'],\n",
        "    \"django\": [\n",
        "        'Django', 'django', 'django1', 'django2', 'django3', 'Django1', 'Django2', \n",
        "        'Django3', '#Django', '#django', '#django1', '#django2', '#django3', '#Django1', '#Django2', '#Django3'\n",
        "    ],\n",
        "\n",
        "    \"vue\": ['Vue', 'vue', 'VueJS', 'vuejs', 'VueJs', 'vueJS', '#Vue', '#vue', '#VueJS', '#vuejs', '#VueJs', '#vueJS'],\n",
        "    \"express\": ['express', 'ExpressJS', '#express', '#ExpressJS'],\n",
        "    \"node\": [\n",
        "        'Node', 'Node.js', 'NodeJS', 'Node.JS', 'nodeJS', 'nodejs', '#Node', '#Node.js', '#NodeJS', '#Node.JS', \n",
        "        '#nodeJS', '#nodejs'\n",
        "    ]\n",
        "}\n"
      ],
      "execution_count": 0,
      "outputs": []
    },
    {
      "cell_type": "code",
      "metadata": {
        "id": "RnUGWKsR3VbL",
        "colab_type": "code",
        "colab": {}
      },
      "source": [
        "# iterate over all frameworks and build list\n",
        "# use list compression to reduce code length and to get faster speed\n",
        "flat_frameworks_list = [item for sublist in list(frameworks.values()) for item in sublist]"
      ],
      "execution_count": 0,
      "outputs": []
    },
    {
      "cell_type": "code",
      "metadata": {
        "id": "Dr3gLm61ymMc",
        "colab_type": "code",
        "colab": {}
      },
      "source": [
        "total_tweets = len(data['fulltext'])\n",
        "tweets = data['fulltext']\n",
        "    \n",
        "def find_percentage(x,y):\n",
        "    percentage = round((int(x) * 100) / int(y), 2)\n",
        "    return percentage\n",
        "\n",
        "def find_mention(tweets, total_tweets, word_list):\n",
        "    x = 0\n",
        "    count = 0\n",
        "    \n",
        "    while(x <= total_tweets - 1):\n",
        "        words = tweets[x].split()\n",
        "        \n",
        "        for word in words:\n",
        "            if word in word_list:\n",
        "                count += 1\n",
        "                break\n",
        "        x += 1\n",
        "        \n",
        "    return count"
      ],
      "execution_count": 0,
      "outputs": []
    },
    {
      "cell_type": "code",
      "metadata": {
        "id": "NwaqmTNo7eU5",
        "colab_type": "code",
        "colab": {}
      },
      "source": [
        "mensions = []\n",
        "labels = []\n",
        "percentages = []\n",
        "\n",
        "# iterate over all keys of dictionary\n",
        "# and calculate percentages of all framework in data \n",
        "for framework_name in frameworks.keys():\n",
        "    labels.append(framework_name)\n",
        "    mention = find_mention(tweets, total_tweets, framework_name)\n",
        "    per = find_percentage(mention, total_tweets)\n",
        "    percentages.append(per)"
      ],
      "execution_count": 0,
      "outputs": []
    },
    {
      "cell_type": "markdown",
      "metadata": {
        "id": "EjNtCJQCkm3f",
        "colab_type": "text"
      },
      "source": [
        "## visualization"
      ]
    },
    {
      "cell_type": "code",
      "metadata": {
        "id": "8AtoA_COks8M",
        "colab_type": "code",
        "colab": {}
      },
      "source": [
        "!pip install plotly"
      ],
      "execution_count": 0,
      "outputs": []
    },
    {
      "cell_type": "code",
      "metadata": {
        "id": "7J_Kq3brkqPm",
        "colab_type": "code",
        "colab": {}
      },
      "source": [
        "import plotly.express as px"
      ],
      "execution_count": 0,
      "outputs": []
    },
    {
      "cell_type": "code",
      "metadata": {
        "id": "ducpChp4kfA2",
        "colab_type": "code",
        "outputId": "6bfe8180-86af-4493-d4b5-952e6548c0c0",
        "colab": {
          "base_uri": "https://localhost:8080/",
          "height": 542
        }
      },
      "source": [
        "data = {\n",
        "    'framework': labels, \n",
        "    'percentage': percentages\n",
        "}\n",
        "df = pd.DataFrame.from_dict(data)\n",
        "\n",
        "fig = px.pie(\n",
        "    df, names='framework', values='percentage',\n",
        "    hover_data=['framework', 'percentage'],\n",
        "    # color='framework',\n",
        "    # height=400\n",
        ")\n",
        "fig.update_traces(textposition='inside', textinfo='percent+label')\n",
        "fig.show()"
      ],
      "execution_count": 27,
      "outputs": [
        {
          "output_type": "display_data",
          "data": {
            "text/html": [
              "<html>\n",
              "<head><meta charset=\"utf-8\" /></head>\n",
              "<body>\n",
              "    <div>\n",
              "            <script src=\"https://cdnjs.cloudflare.com/ajax/libs/mathjax/2.7.5/MathJax.js?config=TeX-AMS-MML_SVG\"></script><script type=\"text/javascript\">if (window.MathJax) {MathJax.Hub.Config({SVG: {font: \"STIX-Web\"}});}</script>\n",
              "                <script type=\"text/javascript\">window.PlotlyConfig = {MathJaxConfig: 'local'};</script>\n",
              "        <script src=\"https://cdn.plot.ly/plotly-latest.min.js\"></script>    \n",
              "            <div id=\"9441ee72-9418-44c1-a409-3ea6bac2252a\" class=\"plotly-graph-div\" style=\"height:525px; width:100%;\"></div>\n",
              "            <script type=\"text/javascript\">\n",
              "                \n",
              "                    window.PLOTLYENV=window.PLOTLYENV || {};\n",
              "                    \n",
              "                if (document.getElementById(\"9441ee72-9418-44c1-a409-3ea6bac2252a\")) {\n",
              "                    Plotly.newPlot(\n",
              "                        '9441ee72-9418-44c1-a409-3ea6bac2252a',\n",
              "                        [{\"customdata\": [[\"react\", 27.2], [\"angular\", 29.26], [\"cakephp\", 26.98], [\"laravel\", 27.11], [\"rails\", 27.58], [\"asp\", 28.45], [\"django\", 29.7], [\"vue\", 0.41], [\"express\", 0.57], [\"node\", 2.07]], \"domain\": {\"x\": [0.0, 1.0], \"y\": [0.0, 1.0]}, \"hoverlabel\": {\"namelength\": 0}, \"hovertemplate\": \"framework=%{label}<br>percentage=%{value}\", \"labels\": [\"react\", \"angular\", \"cakephp\", \"laravel\", \"rails\", \"asp\", \"django\", \"vue\", \"express\", \"node\"], \"legendgroup\": \"\", \"name\": \"\", \"showlegend\": true, \"textinfo\": \"percent+label\", \"textposition\": \"inside\", \"type\": \"pie\", \"values\": [27.2, 29.26, 26.98, 27.11, 27.58, 28.45, 29.7, 0.41, 0.57, 2.07]}],\n",
              "                        {\"legend\": {\"tracegroupgap\": 0}, \"margin\": {\"t\": 60}, \"template\": {\"data\": {\"bar\": [{\"error_x\": {\"color\": \"#2a3f5f\"}, \"error_y\": {\"color\": \"#2a3f5f\"}, \"marker\": {\"line\": {\"color\": \"#E5ECF6\", \"width\": 0.5}}, \"type\": \"bar\"}], \"barpolar\": [{\"marker\": {\"line\": {\"color\": \"#E5ECF6\", \"width\": 0.5}}, \"type\": \"barpolar\"}], \"carpet\": [{\"aaxis\": {\"endlinecolor\": \"#2a3f5f\", \"gridcolor\": \"white\", \"linecolor\": \"white\", \"minorgridcolor\": \"white\", \"startlinecolor\": \"#2a3f5f\"}, \"baxis\": {\"endlinecolor\": \"#2a3f5f\", \"gridcolor\": \"white\", \"linecolor\": \"white\", \"minorgridcolor\": \"white\", \"startlinecolor\": \"#2a3f5f\"}, \"type\": \"carpet\"}], \"choropleth\": [{\"colorbar\": {\"outlinewidth\": 0, \"ticks\": \"\"}, \"type\": \"choropleth\"}], \"contour\": [{\"colorbar\": {\"outlinewidth\": 0, \"ticks\": \"\"}, \"colorscale\": [[0.0, \"#0d0887\"], [0.1111111111111111, \"#46039f\"], [0.2222222222222222, \"#7201a8\"], [0.3333333333333333, \"#9c179e\"], [0.4444444444444444, \"#bd3786\"], [0.5555555555555556, \"#d8576b\"], [0.6666666666666666, \"#ed7953\"], [0.7777777777777778, \"#fb9f3a\"], [0.8888888888888888, \"#fdca26\"], [1.0, \"#f0f921\"]], \"type\": \"contour\"}], \"contourcarpet\": [{\"colorbar\": {\"outlinewidth\": 0, \"ticks\": \"\"}, \"type\": \"contourcarpet\"}], \"heatmap\": [{\"colorbar\": {\"outlinewidth\": 0, \"ticks\": \"\"}, \"colorscale\": [[0.0, \"#0d0887\"], [0.1111111111111111, \"#46039f\"], [0.2222222222222222, \"#7201a8\"], [0.3333333333333333, \"#9c179e\"], [0.4444444444444444, \"#bd3786\"], [0.5555555555555556, \"#d8576b\"], [0.6666666666666666, \"#ed7953\"], [0.7777777777777778, \"#fb9f3a\"], [0.8888888888888888, \"#fdca26\"], [1.0, \"#f0f921\"]], \"type\": \"heatmap\"}], \"heatmapgl\": [{\"colorbar\": {\"outlinewidth\": 0, \"ticks\": \"\"}, \"colorscale\": [[0.0, \"#0d0887\"], [0.1111111111111111, \"#46039f\"], [0.2222222222222222, \"#7201a8\"], [0.3333333333333333, \"#9c179e\"], [0.4444444444444444, \"#bd3786\"], [0.5555555555555556, \"#d8576b\"], [0.6666666666666666, \"#ed7953\"], [0.7777777777777778, \"#fb9f3a\"], [0.8888888888888888, \"#fdca26\"], [1.0, \"#f0f921\"]], \"type\": \"heatmapgl\"}], \"histogram\": [{\"marker\": {\"colorbar\": {\"outlinewidth\": 0, \"ticks\": \"\"}}, \"type\": \"histogram\"}], \"histogram2d\": [{\"colorbar\": {\"outlinewidth\": 0, \"ticks\": \"\"}, \"colorscale\": [[0.0, \"#0d0887\"], [0.1111111111111111, \"#46039f\"], [0.2222222222222222, \"#7201a8\"], [0.3333333333333333, \"#9c179e\"], [0.4444444444444444, \"#bd3786\"], [0.5555555555555556, \"#d8576b\"], [0.6666666666666666, \"#ed7953\"], [0.7777777777777778, \"#fb9f3a\"], [0.8888888888888888, \"#fdca26\"], [1.0, \"#f0f921\"]], \"type\": \"histogram2d\"}], \"histogram2dcontour\": [{\"colorbar\": {\"outlinewidth\": 0, \"ticks\": \"\"}, \"colorscale\": [[0.0, \"#0d0887\"], [0.1111111111111111, \"#46039f\"], [0.2222222222222222, \"#7201a8\"], [0.3333333333333333, \"#9c179e\"], [0.4444444444444444, \"#bd3786\"], [0.5555555555555556, \"#d8576b\"], [0.6666666666666666, \"#ed7953\"], [0.7777777777777778, \"#fb9f3a\"], [0.8888888888888888, \"#fdca26\"], [1.0, \"#f0f921\"]], \"type\": \"histogram2dcontour\"}], \"mesh3d\": [{\"colorbar\": {\"outlinewidth\": 0, \"ticks\": \"\"}, \"type\": \"mesh3d\"}], \"parcoords\": [{\"line\": {\"colorbar\": {\"outlinewidth\": 0, \"ticks\": \"\"}}, \"type\": \"parcoords\"}], \"pie\": [{\"automargin\": true, \"type\": \"pie\"}], \"scatter\": [{\"marker\": {\"colorbar\": {\"outlinewidth\": 0, \"ticks\": \"\"}}, \"type\": \"scatter\"}], \"scatter3d\": [{\"line\": {\"colorbar\": {\"outlinewidth\": 0, \"ticks\": \"\"}}, \"marker\": {\"colorbar\": {\"outlinewidth\": 0, \"ticks\": \"\"}}, \"type\": \"scatter3d\"}], \"scattercarpet\": [{\"marker\": {\"colorbar\": {\"outlinewidth\": 0, \"ticks\": \"\"}}, \"type\": \"scattercarpet\"}], \"scattergeo\": [{\"marker\": {\"colorbar\": {\"outlinewidth\": 0, \"ticks\": \"\"}}, \"type\": \"scattergeo\"}], \"scattergl\": [{\"marker\": {\"colorbar\": {\"outlinewidth\": 0, \"ticks\": \"\"}}, \"type\": \"scattergl\"}], \"scattermapbox\": [{\"marker\": {\"colorbar\": {\"outlinewidth\": 0, \"ticks\": \"\"}}, \"type\": \"scattermapbox\"}], \"scatterpolar\": [{\"marker\": {\"colorbar\": {\"outlinewidth\": 0, \"ticks\": \"\"}}, \"type\": \"scatterpolar\"}], \"scatterpolargl\": [{\"marker\": {\"colorbar\": {\"outlinewidth\": 0, \"ticks\": \"\"}}, \"type\": \"scatterpolargl\"}], \"scatterternary\": [{\"marker\": {\"colorbar\": {\"outlinewidth\": 0, \"ticks\": \"\"}}, \"type\": \"scatterternary\"}], \"surface\": [{\"colorbar\": {\"outlinewidth\": 0, \"ticks\": \"\"}, \"colorscale\": [[0.0, \"#0d0887\"], [0.1111111111111111, \"#46039f\"], [0.2222222222222222, \"#7201a8\"], [0.3333333333333333, \"#9c179e\"], [0.4444444444444444, \"#bd3786\"], [0.5555555555555556, \"#d8576b\"], [0.6666666666666666, \"#ed7953\"], [0.7777777777777778, \"#fb9f3a\"], [0.8888888888888888, \"#fdca26\"], [1.0, \"#f0f921\"]], \"type\": \"surface\"}], \"table\": [{\"cells\": {\"fill\": {\"color\": \"#EBF0F8\"}, \"line\": {\"color\": \"white\"}}, \"header\": {\"fill\": {\"color\": \"#C8D4E3\"}, \"line\": {\"color\": \"white\"}}, \"type\": \"table\"}]}, \"layout\": {\"annotationdefaults\": {\"arrowcolor\": \"#2a3f5f\", \"arrowhead\": 0, \"arrowwidth\": 1}, \"coloraxis\": {\"colorbar\": {\"outlinewidth\": 0, \"ticks\": \"\"}}, \"colorscale\": {\"diverging\": [[0, \"#8e0152\"], [0.1, \"#c51b7d\"], [0.2, \"#de77ae\"], [0.3, \"#f1b6da\"], [0.4, \"#fde0ef\"], [0.5, \"#f7f7f7\"], [0.6, \"#e6f5d0\"], [0.7, \"#b8e186\"], [0.8, \"#7fbc41\"], [0.9, \"#4d9221\"], [1, \"#276419\"]], \"sequential\": [[0.0, \"#0d0887\"], [0.1111111111111111, \"#46039f\"], [0.2222222222222222, \"#7201a8\"], [0.3333333333333333, \"#9c179e\"], [0.4444444444444444, \"#bd3786\"], [0.5555555555555556, \"#d8576b\"], [0.6666666666666666, \"#ed7953\"], [0.7777777777777778, \"#fb9f3a\"], [0.8888888888888888, \"#fdca26\"], [1.0, \"#f0f921\"]], \"sequentialminus\": [[0.0, \"#0d0887\"], [0.1111111111111111, \"#46039f\"], [0.2222222222222222, \"#7201a8\"], [0.3333333333333333, \"#9c179e\"], [0.4444444444444444, \"#bd3786\"], [0.5555555555555556, \"#d8576b\"], [0.6666666666666666, \"#ed7953\"], [0.7777777777777778, \"#fb9f3a\"], [0.8888888888888888, \"#fdca26\"], [1.0, \"#f0f921\"]]}, \"colorway\": [\"#636efa\", \"#EF553B\", \"#00cc96\", \"#ab63fa\", \"#FFA15A\", \"#19d3f3\", \"#FF6692\", \"#B6E880\", \"#FF97FF\", \"#FECB52\"], \"font\": {\"color\": \"#2a3f5f\"}, \"geo\": {\"bgcolor\": \"white\", \"lakecolor\": \"white\", \"landcolor\": \"#E5ECF6\", \"showlakes\": true, \"showland\": true, \"subunitcolor\": \"white\"}, \"hoverlabel\": {\"align\": \"left\"}, \"hovermode\": \"closest\", \"mapbox\": {\"style\": \"light\"}, \"paper_bgcolor\": \"white\", \"plot_bgcolor\": \"#E5ECF6\", \"polar\": {\"angularaxis\": {\"gridcolor\": \"white\", \"linecolor\": \"white\", \"ticks\": \"\"}, \"bgcolor\": \"#E5ECF6\", \"radialaxis\": {\"gridcolor\": \"white\", \"linecolor\": \"white\", \"ticks\": \"\"}}, \"scene\": {\"xaxis\": {\"backgroundcolor\": \"#E5ECF6\", \"gridcolor\": \"white\", \"gridwidth\": 2, \"linecolor\": \"white\", \"showbackground\": true, \"ticks\": \"\", \"zerolinecolor\": \"white\"}, \"yaxis\": {\"backgroundcolor\": \"#E5ECF6\", \"gridcolor\": \"white\", \"gridwidth\": 2, \"linecolor\": \"white\", \"showbackground\": true, \"ticks\": \"\", \"zerolinecolor\": \"white\"}, \"zaxis\": {\"backgroundcolor\": \"#E5ECF6\", \"gridcolor\": \"white\", \"gridwidth\": 2, \"linecolor\": \"white\", \"showbackground\": true, \"ticks\": \"\", \"zerolinecolor\": \"white\"}}, \"shapedefaults\": {\"line\": {\"color\": \"#2a3f5f\"}}, \"ternary\": {\"aaxis\": {\"gridcolor\": \"white\", \"linecolor\": \"white\", \"ticks\": \"\"}, \"baxis\": {\"gridcolor\": \"white\", \"linecolor\": \"white\", \"ticks\": \"\"}, \"bgcolor\": \"#E5ECF6\", \"caxis\": {\"gridcolor\": \"white\", \"linecolor\": \"white\", \"ticks\": \"\"}}, \"title\": {\"x\": 0.05}, \"xaxis\": {\"automargin\": true, \"gridcolor\": \"white\", \"linecolor\": \"white\", \"ticks\": \"\", \"title\": {\"standoff\": 15}, \"zerolinecolor\": \"white\", \"zerolinewidth\": 2}, \"yaxis\": {\"automargin\": true, \"gridcolor\": \"white\", \"linecolor\": \"white\", \"ticks\": \"\", \"title\": {\"standoff\": 15}, \"zerolinecolor\": \"white\", \"zerolinewidth\": 2}}}},\n",
              "                        {\"responsive\": true}\n",
              "                    ).then(function(){\n",
              "                            \n",
              "var gd = document.getElementById('9441ee72-9418-44c1-a409-3ea6bac2252a');\n",
              "var x = new MutationObserver(function (mutations, observer) {{\n",
              "        var display = window.getComputedStyle(gd).display;\n",
              "        if (!display || display === 'none') {{\n",
              "            console.log([gd, 'removed!']);\n",
              "            Plotly.purge(gd);\n",
              "            observer.disconnect();\n",
              "        }}\n",
              "}});\n",
              "\n",
              "// Listen for the removal of the full notebook cells\n",
              "var notebookContainer = gd.closest('#notebook-container');\n",
              "if (notebookContainer) {{\n",
              "    x.observe(notebookContainer, {childList: true});\n",
              "}}\n",
              "\n",
              "// Listen for the clearing of the current output cell\n",
              "var outputEl = gd.closest('.output');\n",
              "if (outputEl) {{\n",
              "    x.observe(outputEl, {childList: true});\n",
              "}}\n",
              "\n",
              "                        })\n",
              "                };\n",
              "                \n",
              "            </script>\n",
              "        </div>\n",
              "</body>\n",
              "</html>"
            ]
          },
          "metadata": {
            "tags": []
          }
        }
      ]
    },
    {
      "cell_type": "markdown",
      "metadata": {
        "id": "c53QEC0-nU-e",
        "colab_type": "text"
      },
      "source": [
        "### vertical bar graph"
      ]
    },
    {
      "cell_type": "code",
      "metadata": {
        "id": "sn91r-LQgfNb",
        "colab_type": "code",
        "outputId": "6152ce46-1d1c-452d-d3b4-d45004a1c139",
        "colab": {
          "base_uri": "https://localhost:8080/",
          "height": 542
        }
      },
      "source": [
        "data = {\n",
        "    'framework': labels, \n",
        "    'percentage': percentages\n",
        "}\n",
        "df = pd.DataFrame.from_dict(data)\n",
        "\n",
        "fig = px.bar(\n",
        "    df, x='framework', y='percentage', text='percentage',\n",
        "    hover_data=['framework', 'percentage'],\n",
        "    color='framework',\n",
        "    title=\"Mentions of each web development framework in tweets\",\n",
        "    # height=400,\n",
        ")\n",
        "\n",
        "fig.update_traces(texttemplate='%{text}', textposition='outside')\n",
        "\n",
        "fig.show()"
      ],
      "execution_count": 28,
      "outputs": [
        {
          "output_type": "display_data",
          "data": {
            "text/html": [
              "<html>\n",
              "<head><meta charset=\"utf-8\" /></head>\n",
              "<body>\n",
              "    <div>\n",
              "            <script src=\"https://cdnjs.cloudflare.com/ajax/libs/mathjax/2.7.5/MathJax.js?config=TeX-AMS-MML_SVG\"></script><script type=\"text/javascript\">if (window.MathJax) {MathJax.Hub.Config({SVG: {font: \"STIX-Web\"}});}</script>\n",
              "                <script type=\"text/javascript\">window.PlotlyConfig = {MathJaxConfig: 'local'};</script>\n",
              "        <script src=\"https://cdn.plot.ly/plotly-latest.min.js\"></script>    \n",
              "            <div id=\"841f0756-efe3-4168-8ef2-3a3c99081475\" class=\"plotly-graph-div\" style=\"height:525px; width:100%;\"></div>\n",
              "            <script type=\"text/javascript\">\n",
              "                \n",
              "                    window.PLOTLYENV=window.PLOTLYENV || {};\n",
              "                    \n",
              "                if (document.getElementById(\"841f0756-efe3-4168-8ef2-3a3c99081475\")) {\n",
              "                    Plotly.newPlot(\n",
              "                        '841f0756-efe3-4168-8ef2-3a3c99081475',\n",
              "                        [{\"alignmentgroup\": \"True\", \"customdata\": [[\"react\", 27.2]], \"hoverlabel\": {\"namelength\": 0}, \"hovertemplate\": \"framework=%{customdata[0]}<br>percentage=%{text}\", \"legendgroup\": \"framework=react\", \"marker\": {\"color\": \"#636efa\"}, \"name\": \"framework=react\", \"offsetgroup\": \"framework=react\", \"orientation\": \"v\", \"showlegend\": true, \"text\": [27.2], \"textposition\": \"outside\", \"texttemplate\": \"%{text}\", \"type\": \"bar\", \"x\": [\"react\"], \"xaxis\": \"x\", \"y\": [27.2], \"yaxis\": \"y\"}, {\"alignmentgroup\": \"True\", \"customdata\": [[\"angular\", 29.26]], \"hoverlabel\": {\"namelength\": 0}, \"hovertemplate\": \"framework=%{customdata[0]}<br>percentage=%{text}\", \"legendgroup\": \"framework=angular\", \"marker\": {\"color\": \"#EF553B\"}, \"name\": \"framework=angular\", \"offsetgroup\": \"framework=angular\", \"orientation\": \"v\", \"showlegend\": true, \"text\": [29.26], \"textposition\": \"outside\", \"texttemplate\": \"%{text}\", \"type\": \"bar\", \"x\": [\"angular\"], \"xaxis\": \"x\", \"y\": [29.26], \"yaxis\": \"y\"}, {\"alignmentgroup\": \"True\", \"customdata\": [[\"cakephp\", 26.98]], \"hoverlabel\": {\"namelength\": 0}, \"hovertemplate\": \"framework=%{customdata[0]}<br>percentage=%{text}\", \"legendgroup\": \"framework=cakephp\", \"marker\": {\"color\": \"#00cc96\"}, \"name\": \"framework=cakephp\", \"offsetgroup\": \"framework=cakephp\", \"orientation\": \"v\", \"showlegend\": true, \"text\": [26.98], \"textposition\": \"outside\", \"texttemplate\": \"%{text}\", \"type\": \"bar\", \"x\": [\"cakephp\"], \"xaxis\": \"x\", \"y\": [26.98], \"yaxis\": \"y\"}, {\"alignmentgroup\": \"True\", \"customdata\": [[\"laravel\", 27.11]], \"hoverlabel\": {\"namelength\": 0}, \"hovertemplate\": \"framework=%{customdata[0]}<br>percentage=%{text}\", \"legendgroup\": \"framework=laravel\", \"marker\": {\"color\": \"#ab63fa\"}, \"name\": \"framework=laravel\", \"offsetgroup\": \"framework=laravel\", \"orientation\": \"v\", \"showlegend\": true, \"text\": [27.11], \"textposition\": \"outside\", \"texttemplate\": \"%{text}\", \"type\": \"bar\", \"x\": [\"laravel\"], \"xaxis\": \"x\", \"y\": [27.11], \"yaxis\": \"y\"}, {\"alignmentgroup\": \"True\", \"customdata\": [[\"rails\", 27.58]], \"hoverlabel\": {\"namelength\": 0}, \"hovertemplate\": \"framework=%{customdata[0]}<br>percentage=%{text}\", \"legendgroup\": \"framework=rails\", \"marker\": {\"color\": \"#FFA15A\"}, \"name\": \"framework=rails\", \"offsetgroup\": \"framework=rails\", \"orientation\": \"v\", \"showlegend\": true, \"text\": [27.58], \"textposition\": \"outside\", \"texttemplate\": \"%{text}\", \"type\": \"bar\", \"x\": [\"rails\"], \"xaxis\": \"x\", \"y\": [27.58], \"yaxis\": \"y\"}, {\"alignmentgroup\": \"True\", \"customdata\": [[\"asp\", 28.45]], \"hoverlabel\": {\"namelength\": 0}, \"hovertemplate\": \"framework=%{customdata[0]}<br>percentage=%{text}\", \"legendgroup\": \"framework=asp\", \"marker\": {\"color\": \"#19d3f3\"}, \"name\": \"framework=asp\", \"offsetgroup\": \"framework=asp\", \"orientation\": \"v\", \"showlegend\": true, \"text\": [28.45], \"textposition\": \"outside\", \"texttemplate\": \"%{text}\", \"type\": \"bar\", \"x\": [\"asp\"], \"xaxis\": \"x\", \"y\": [28.45], \"yaxis\": \"y\"}, {\"alignmentgroup\": \"True\", \"customdata\": [[\"django\", 29.7]], \"hoverlabel\": {\"namelength\": 0}, \"hovertemplate\": \"framework=%{customdata[0]}<br>percentage=%{text}\", \"legendgroup\": \"framework=django\", \"marker\": {\"color\": \"#FF6692\"}, \"name\": \"framework=django\", \"offsetgroup\": \"framework=django\", \"orientation\": \"v\", \"showlegend\": true, \"text\": [29.7], \"textposition\": \"outside\", \"texttemplate\": \"%{text}\", \"type\": \"bar\", \"x\": [\"django\"], \"xaxis\": \"x\", \"y\": [29.7], \"yaxis\": \"y\"}, {\"alignmentgroup\": \"True\", \"customdata\": [[\"vue\", 0.41]], \"hoverlabel\": {\"namelength\": 0}, \"hovertemplate\": \"framework=%{customdata[0]}<br>percentage=%{text}\", \"legendgroup\": \"framework=vue\", \"marker\": {\"color\": \"#B6E880\"}, \"name\": \"framework=vue\", \"offsetgroup\": \"framework=vue\", \"orientation\": \"v\", \"showlegend\": true, \"text\": [0.41], \"textposition\": \"outside\", \"texttemplate\": \"%{text}\", \"type\": \"bar\", \"x\": [\"vue\"], \"xaxis\": \"x\", \"y\": [0.41], \"yaxis\": \"y\"}, {\"alignmentgroup\": \"True\", \"customdata\": [[\"express\", 0.57]], \"hoverlabel\": {\"namelength\": 0}, \"hovertemplate\": \"framework=%{customdata[0]}<br>percentage=%{text}\", \"legendgroup\": \"framework=express\", \"marker\": {\"color\": \"#FF97FF\"}, \"name\": \"framework=express\", \"offsetgroup\": \"framework=express\", \"orientation\": \"v\", \"showlegend\": true, \"text\": [0.57], \"textposition\": \"outside\", \"texttemplate\": \"%{text}\", \"type\": \"bar\", \"x\": [\"express\"], \"xaxis\": \"x\", \"y\": [0.57], \"yaxis\": \"y\"}, {\"alignmentgroup\": \"True\", \"customdata\": [[\"node\", 2.07]], \"hoverlabel\": {\"namelength\": 0}, \"hovertemplate\": \"framework=%{customdata[0]}<br>percentage=%{text}\", \"legendgroup\": \"framework=node\", \"marker\": {\"color\": \"#FECB52\"}, \"name\": \"framework=node\", \"offsetgroup\": \"framework=node\", \"orientation\": \"v\", \"showlegend\": true, \"text\": [2.07], \"textposition\": \"outside\", \"texttemplate\": \"%{text}\", \"type\": \"bar\", \"x\": [\"node\"], \"xaxis\": \"x\", \"y\": [2.07], \"yaxis\": \"y\"}],\n",
              "                        {\"barmode\": \"relative\", \"legend\": {\"tracegroupgap\": 0}, \"template\": {\"data\": {\"bar\": [{\"error_x\": {\"color\": \"#2a3f5f\"}, \"error_y\": {\"color\": \"#2a3f5f\"}, \"marker\": {\"line\": {\"color\": \"#E5ECF6\", \"width\": 0.5}}, \"type\": \"bar\"}], \"barpolar\": [{\"marker\": {\"line\": {\"color\": \"#E5ECF6\", \"width\": 0.5}}, \"type\": \"barpolar\"}], \"carpet\": [{\"aaxis\": {\"endlinecolor\": \"#2a3f5f\", \"gridcolor\": \"white\", \"linecolor\": \"white\", \"minorgridcolor\": \"white\", \"startlinecolor\": \"#2a3f5f\"}, \"baxis\": {\"endlinecolor\": \"#2a3f5f\", \"gridcolor\": \"white\", \"linecolor\": \"white\", \"minorgridcolor\": \"white\", \"startlinecolor\": \"#2a3f5f\"}, \"type\": \"carpet\"}], \"choropleth\": [{\"colorbar\": {\"outlinewidth\": 0, \"ticks\": \"\"}, \"type\": \"choropleth\"}], \"contour\": [{\"colorbar\": {\"outlinewidth\": 0, \"ticks\": \"\"}, \"colorscale\": [[0.0, \"#0d0887\"], [0.1111111111111111, \"#46039f\"], [0.2222222222222222, \"#7201a8\"], [0.3333333333333333, \"#9c179e\"], [0.4444444444444444, \"#bd3786\"], [0.5555555555555556, \"#d8576b\"], [0.6666666666666666, \"#ed7953\"], [0.7777777777777778, \"#fb9f3a\"], [0.8888888888888888, \"#fdca26\"], [1.0, \"#f0f921\"]], \"type\": \"contour\"}], \"contourcarpet\": [{\"colorbar\": {\"outlinewidth\": 0, \"ticks\": \"\"}, \"type\": \"contourcarpet\"}], \"heatmap\": [{\"colorbar\": {\"outlinewidth\": 0, \"ticks\": \"\"}, \"colorscale\": [[0.0, \"#0d0887\"], [0.1111111111111111, \"#46039f\"], [0.2222222222222222, \"#7201a8\"], [0.3333333333333333, \"#9c179e\"], [0.4444444444444444, \"#bd3786\"], [0.5555555555555556, \"#d8576b\"], [0.6666666666666666, \"#ed7953\"], [0.7777777777777778, \"#fb9f3a\"], [0.8888888888888888, \"#fdca26\"], [1.0, \"#f0f921\"]], \"type\": \"heatmap\"}], \"heatmapgl\": [{\"colorbar\": {\"outlinewidth\": 0, \"ticks\": \"\"}, \"colorscale\": [[0.0, \"#0d0887\"], [0.1111111111111111, \"#46039f\"], [0.2222222222222222, \"#7201a8\"], [0.3333333333333333, \"#9c179e\"], [0.4444444444444444, \"#bd3786\"], [0.5555555555555556, \"#d8576b\"], [0.6666666666666666, \"#ed7953\"], [0.7777777777777778, \"#fb9f3a\"], [0.8888888888888888, \"#fdca26\"], [1.0, \"#f0f921\"]], \"type\": \"heatmapgl\"}], \"histogram\": [{\"marker\": {\"colorbar\": {\"outlinewidth\": 0, \"ticks\": \"\"}}, \"type\": \"histogram\"}], \"histogram2d\": [{\"colorbar\": {\"outlinewidth\": 0, \"ticks\": \"\"}, \"colorscale\": [[0.0, \"#0d0887\"], [0.1111111111111111, \"#46039f\"], [0.2222222222222222, \"#7201a8\"], [0.3333333333333333, \"#9c179e\"], [0.4444444444444444, \"#bd3786\"], [0.5555555555555556, \"#d8576b\"], [0.6666666666666666, \"#ed7953\"], [0.7777777777777778, \"#fb9f3a\"], [0.8888888888888888, \"#fdca26\"], [1.0, \"#f0f921\"]], \"type\": \"histogram2d\"}], \"histogram2dcontour\": [{\"colorbar\": {\"outlinewidth\": 0, \"ticks\": \"\"}, \"colorscale\": [[0.0, \"#0d0887\"], [0.1111111111111111, \"#46039f\"], [0.2222222222222222, \"#7201a8\"], [0.3333333333333333, \"#9c179e\"], [0.4444444444444444, \"#bd3786\"], [0.5555555555555556, \"#d8576b\"], [0.6666666666666666, \"#ed7953\"], [0.7777777777777778, \"#fb9f3a\"], [0.8888888888888888, \"#fdca26\"], [1.0, \"#f0f921\"]], \"type\": \"histogram2dcontour\"}], \"mesh3d\": [{\"colorbar\": {\"outlinewidth\": 0, \"ticks\": \"\"}, \"type\": \"mesh3d\"}], \"parcoords\": [{\"line\": {\"colorbar\": {\"outlinewidth\": 0, \"ticks\": \"\"}}, \"type\": \"parcoords\"}], \"pie\": [{\"automargin\": true, \"type\": \"pie\"}], \"scatter\": [{\"marker\": {\"colorbar\": {\"outlinewidth\": 0, \"ticks\": \"\"}}, \"type\": \"scatter\"}], \"scatter3d\": [{\"line\": {\"colorbar\": {\"outlinewidth\": 0, \"ticks\": \"\"}}, \"marker\": {\"colorbar\": {\"outlinewidth\": 0, \"ticks\": \"\"}}, \"type\": \"scatter3d\"}], \"scattercarpet\": [{\"marker\": {\"colorbar\": {\"outlinewidth\": 0, \"ticks\": \"\"}}, \"type\": \"scattercarpet\"}], \"scattergeo\": [{\"marker\": {\"colorbar\": {\"outlinewidth\": 0, \"ticks\": \"\"}}, \"type\": \"scattergeo\"}], \"scattergl\": [{\"marker\": {\"colorbar\": {\"outlinewidth\": 0, \"ticks\": \"\"}}, \"type\": \"scattergl\"}], \"scattermapbox\": [{\"marker\": {\"colorbar\": {\"outlinewidth\": 0, \"ticks\": \"\"}}, \"type\": \"scattermapbox\"}], \"scatterpolar\": [{\"marker\": {\"colorbar\": {\"outlinewidth\": 0, \"ticks\": \"\"}}, \"type\": \"scatterpolar\"}], \"scatterpolargl\": [{\"marker\": {\"colorbar\": {\"outlinewidth\": 0, \"ticks\": \"\"}}, \"type\": \"scatterpolargl\"}], \"scatterternary\": [{\"marker\": {\"colorbar\": {\"outlinewidth\": 0, \"ticks\": \"\"}}, \"type\": \"scatterternary\"}], \"surface\": [{\"colorbar\": {\"outlinewidth\": 0, \"ticks\": \"\"}, \"colorscale\": [[0.0, \"#0d0887\"], [0.1111111111111111, \"#46039f\"], [0.2222222222222222, \"#7201a8\"], [0.3333333333333333, \"#9c179e\"], [0.4444444444444444, \"#bd3786\"], [0.5555555555555556, \"#d8576b\"], [0.6666666666666666, \"#ed7953\"], [0.7777777777777778, \"#fb9f3a\"], [0.8888888888888888, \"#fdca26\"], [1.0, \"#f0f921\"]], \"type\": \"surface\"}], \"table\": [{\"cells\": {\"fill\": {\"color\": \"#EBF0F8\"}, \"line\": {\"color\": \"white\"}}, \"header\": {\"fill\": {\"color\": \"#C8D4E3\"}, \"line\": {\"color\": \"white\"}}, \"type\": \"table\"}]}, \"layout\": {\"annotationdefaults\": {\"arrowcolor\": \"#2a3f5f\", \"arrowhead\": 0, \"arrowwidth\": 1}, \"coloraxis\": {\"colorbar\": {\"outlinewidth\": 0, \"ticks\": \"\"}}, \"colorscale\": {\"diverging\": [[0, \"#8e0152\"], [0.1, \"#c51b7d\"], [0.2, \"#de77ae\"], [0.3, \"#f1b6da\"], [0.4, \"#fde0ef\"], [0.5, \"#f7f7f7\"], [0.6, \"#e6f5d0\"], [0.7, \"#b8e186\"], [0.8, \"#7fbc41\"], [0.9, \"#4d9221\"], [1, \"#276419\"]], \"sequential\": [[0.0, \"#0d0887\"], [0.1111111111111111, \"#46039f\"], [0.2222222222222222, \"#7201a8\"], [0.3333333333333333, \"#9c179e\"], [0.4444444444444444, \"#bd3786\"], [0.5555555555555556, \"#d8576b\"], [0.6666666666666666, \"#ed7953\"], [0.7777777777777778, \"#fb9f3a\"], [0.8888888888888888, \"#fdca26\"], [1.0, \"#f0f921\"]], \"sequentialminus\": [[0.0, \"#0d0887\"], [0.1111111111111111, \"#46039f\"], [0.2222222222222222, \"#7201a8\"], [0.3333333333333333, \"#9c179e\"], [0.4444444444444444, \"#bd3786\"], [0.5555555555555556, \"#d8576b\"], [0.6666666666666666, \"#ed7953\"], [0.7777777777777778, \"#fb9f3a\"], [0.8888888888888888, \"#fdca26\"], [1.0, \"#f0f921\"]]}, \"colorway\": [\"#636efa\", \"#EF553B\", \"#00cc96\", \"#ab63fa\", \"#FFA15A\", \"#19d3f3\", \"#FF6692\", \"#B6E880\", \"#FF97FF\", \"#FECB52\"], \"font\": {\"color\": \"#2a3f5f\"}, \"geo\": {\"bgcolor\": \"white\", \"lakecolor\": \"white\", \"landcolor\": \"#E5ECF6\", \"showlakes\": true, \"showland\": true, \"subunitcolor\": \"white\"}, \"hoverlabel\": {\"align\": \"left\"}, \"hovermode\": \"closest\", \"mapbox\": {\"style\": \"light\"}, \"paper_bgcolor\": \"white\", \"plot_bgcolor\": \"#E5ECF6\", \"polar\": {\"angularaxis\": {\"gridcolor\": \"white\", \"linecolor\": \"white\", \"ticks\": \"\"}, \"bgcolor\": \"#E5ECF6\", \"radialaxis\": {\"gridcolor\": \"white\", \"linecolor\": \"white\", \"ticks\": \"\"}}, \"scene\": {\"xaxis\": {\"backgroundcolor\": \"#E5ECF6\", \"gridcolor\": \"white\", \"gridwidth\": 2, \"linecolor\": \"white\", \"showbackground\": true, \"ticks\": \"\", \"zerolinecolor\": \"white\"}, \"yaxis\": {\"backgroundcolor\": \"#E5ECF6\", \"gridcolor\": \"white\", \"gridwidth\": 2, \"linecolor\": \"white\", \"showbackground\": true, \"ticks\": \"\", \"zerolinecolor\": \"white\"}, \"zaxis\": {\"backgroundcolor\": \"#E5ECF6\", \"gridcolor\": \"white\", \"gridwidth\": 2, \"linecolor\": \"white\", \"showbackground\": true, \"ticks\": \"\", \"zerolinecolor\": \"white\"}}, \"shapedefaults\": {\"line\": {\"color\": \"#2a3f5f\"}}, \"ternary\": {\"aaxis\": {\"gridcolor\": \"white\", \"linecolor\": \"white\", \"ticks\": \"\"}, \"baxis\": {\"gridcolor\": \"white\", \"linecolor\": \"white\", \"ticks\": \"\"}, \"bgcolor\": \"#E5ECF6\", \"caxis\": {\"gridcolor\": \"white\", \"linecolor\": \"white\", \"ticks\": \"\"}}, \"title\": {\"x\": 0.05}, \"xaxis\": {\"automargin\": true, \"gridcolor\": \"white\", \"linecolor\": \"white\", \"ticks\": \"\", \"title\": {\"standoff\": 15}, \"zerolinecolor\": \"white\", \"zerolinewidth\": 2}, \"yaxis\": {\"automargin\": true, \"gridcolor\": \"white\", \"linecolor\": \"white\", \"ticks\": \"\", \"title\": {\"standoff\": 15}, \"zerolinecolor\": \"white\", \"zerolinewidth\": 2}}}, \"title\": {\"text\": \"Mentions of each web development framework in tweets\"}, \"xaxis\": {\"anchor\": \"y\", \"categoryarray\": [\"react\", \"angular\", \"cakephp\", \"laravel\", \"rails\", \"asp\", \"django\", \"vue\", \"express\", \"node\"], \"categoryorder\": \"array\", \"domain\": [0.0, 1.0], \"title\": {\"text\": \"framework\"}}, \"yaxis\": {\"anchor\": \"x\", \"domain\": [0.0, 1.0], \"title\": {\"text\": \"percentage\"}}},\n",
              "                        {\"responsive\": true}\n",
              "                    ).then(function(){\n",
              "                            \n",
              "var gd = document.getElementById('841f0756-efe3-4168-8ef2-3a3c99081475');\n",
              "var x = new MutationObserver(function (mutations, observer) {{\n",
              "        var display = window.getComputedStyle(gd).display;\n",
              "        if (!display || display === 'none') {{\n",
              "            console.log([gd, 'removed!']);\n",
              "            Plotly.purge(gd);\n",
              "            observer.disconnect();\n",
              "        }}\n",
              "}});\n",
              "\n",
              "// Listen for the removal of the full notebook cells\n",
              "var notebookContainer = gd.closest('#notebook-container');\n",
              "if (notebookContainer) {{\n",
              "    x.observe(notebookContainer, {childList: true});\n",
              "}}\n",
              "\n",
              "// Listen for the clearing of the current output cell\n",
              "var outputEl = gd.closest('.output');\n",
              "if (outputEl) {{\n",
              "    x.observe(outputEl, {childList: true});\n",
              "}}\n",
              "\n",
              "                        })\n",
              "                };\n",
              "                \n",
              "            </script>\n",
              "        </div>\n",
              "</body>\n",
              "</html>"
            ]
          },
          "metadata": {
            "tags": []
          }
        }
      ]
    },
    {
      "cell_type": "markdown",
      "metadata": {
        "id": "3yhY1OLcnN6t",
        "colab_type": "text"
      },
      "source": [
        "### Horizontal graph"
      ]
    },
    {
      "cell_type": "code",
      "metadata": {
        "id": "Yeqop-NWnJbb",
        "colab_type": "code",
        "outputId": "5beaa083-e0f7-4694-f897-e97d00550ee5",
        "colab": {
          "base_uri": "https://localhost:8080/",
          "height": 416
        }
      },
      "source": [
        "data = {\n",
        "    'framework': labels, \n",
        "    'percentage': percentages\n",
        "}\n",
        "df = pd.DataFrame.from_dict(data)\n",
        "\n",
        "fig = px.bar(\n",
        "    df, y='framework', x='percentage', text='percentage',\n",
        "    hover_data=['framework', 'percentage'],\n",
        "    color='framework',\n",
        "    height=400,\n",
        "    orientation='h',\n",
        "    title=\"Mentions of each web development framework in tweets\",\n",
        ")\n",
        "fig.update_traces(texttemplate='%{text}', textposition='outside')\n",
        "# fig.update_layout(uniformtext_minsize=8, uniformtext_mode='hide')\n",
        "\n",
        "fig.show()"
      ],
      "execution_count": 29,
      "outputs": [
        {
          "output_type": "display_data",
          "data": {
            "text/html": [
              "<html>\n",
              "<head><meta charset=\"utf-8\" /></head>\n",
              "<body>\n",
              "    <div>\n",
              "            <script src=\"https://cdnjs.cloudflare.com/ajax/libs/mathjax/2.7.5/MathJax.js?config=TeX-AMS-MML_SVG\"></script><script type=\"text/javascript\">if (window.MathJax) {MathJax.Hub.Config({SVG: {font: \"STIX-Web\"}});}</script>\n",
              "                <script type=\"text/javascript\">window.PlotlyConfig = {MathJaxConfig: 'local'};</script>\n",
              "        <script src=\"https://cdn.plot.ly/plotly-latest.min.js\"></script>    \n",
              "            <div id=\"71bf69fd-f2e3-4db3-969b-b12bf48bed30\" class=\"plotly-graph-div\" style=\"height:400px; width:100%;\"></div>\n",
              "            <script type=\"text/javascript\">\n",
              "                \n",
              "                    window.PLOTLYENV=window.PLOTLYENV || {};\n",
              "                    \n",
              "                if (document.getElementById(\"71bf69fd-f2e3-4db3-969b-b12bf48bed30\")) {\n",
              "                    Plotly.newPlot(\n",
              "                        '71bf69fd-f2e3-4db3-969b-b12bf48bed30',\n",
              "                        [{\"alignmentgroup\": \"True\", \"customdata\": [[\"react\", 27.2]], \"hoverlabel\": {\"namelength\": 0}, \"hovertemplate\": \"framework=%{customdata[0]}<br>percentage=%{text}\", \"legendgroup\": \"framework=react\", \"marker\": {\"color\": \"#636efa\"}, \"name\": \"framework=react\", \"offsetgroup\": \"framework=react\", \"orientation\": \"h\", \"showlegend\": true, \"text\": [27.2], \"textposition\": \"outside\", \"texttemplate\": \"%{text}\", \"type\": \"bar\", \"x\": [27.2], \"xaxis\": \"x\", \"y\": [\"react\"], \"yaxis\": \"y\"}, {\"alignmentgroup\": \"True\", \"customdata\": [[\"angular\", 29.26]], \"hoverlabel\": {\"namelength\": 0}, \"hovertemplate\": \"framework=%{customdata[0]}<br>percentage=%{text}\", \"legendgroup\": \"framework=angular\", \"marker\": {\"color\": \"#EF553B\"}, \"name\": \"framework=angular\", \"offsetgroup\": \"framework=angular\", \"orientation\": \"h\", \"showlegend\": true, \"text\": [29.26], \"textposition\": \"outside\", \"texttemplate\": \"%{text}\", \"type\": \"bar\", \"x\": [29.26], \"xaxis\": \"x\", \"y\": [\"angular\"], \"yaxis\": \"y\"}, {\"alignmentgroup\": \"True\", \"customdata\": [[\"cakephp\", 26.98]], \"hoverlabel\": {\"namelength\": 0}, \"hovertemplate\": \"framework=%{customdata[0]}<br>percentage=%{text}\", \"legendgroup\": \"framework=cakephp\", \"marker\": {\"color\": \"#00cc96\"}, \"name\": \"framework=cakephp\", \"offsetgroup\": \"framework=cakephp\", \"orientation\": \"h\", \"showlegend\": true, \"text\": [26.98], \"textposition\": \"outside\", \"texttemplate\": \"%{text}\", \"type\": \"bar\", \"x\": [26.98], \"xaxis\": \"x\", \"y\": [\"cakephp\"], \"yaxis\": \"y\"}, {\"alignmentgroup\": \"True\", \"customdata\": [[\"laravel\", 27.11]], \"hoverlabel\": {\"namelength\": 0}, \"hovertemplate\": \"framework=%{customdata[0]}<br>percentage=%{text}\", \"legendgroup\": \"framework=laravel\", \"marker\": {\"color\": \"#ab63fa\"}, \"name\": \"framework=laravel\", \"offsetgroup\": \"framework=laravel\", \"orientation\": \"h\", \"showlegend\": true, \"text\": [27.11], \"textposition\": \"outside\", \"texttemplate\": \"%{text}\", \"type\": \"bar\", \"x\": [27.11], \"xaxis\": \"x\", \"y\": [\"laravel\"], \"yaxis\": \"y\"}, {\"alignmentgroup\": \"True\", \"customdata\": [[\"rails\", 27.58]], \"hoverlabel\": {\"namelength\": 0}, \"hovertemplate\": \"framework=%{customdata[0]}<br>percentage=%{text}\", \"legendgroup\": \"framework=rails\", \"marker\": {\"color\": \"#FFA15A\"}, \"name\": \"framework=rails\", \"offsetgroup\": \"framework=rails\", \"orientation\": \"h\", \"showlegend\": true, \"text\": [27.58], \"textposition\": \"outside\", \"texttemplate\": \"%{text}\", \"type\": \"bar\", \"x\": [27.58], \"xaxis\": \"x\", \"y\": [\"rails\"], \"yaxis\": \"y\"}, {\"alignmentgroup\": \"True\", \"customdata\": [[\"asp\", 28.45]], \"hoverlabel\": {\"namelength\": 0}, \"hovertemplate\": \"framework=%{customdata[0]}<br>percentage=%{text}\", \"legendgroup\": \"framework=asp\", \"marker\": {\"color\": \"#19d3f3\"}, \"name\": \"framework=asp\", \"offsetgroup\": \"framework=asp\", \"orientation\": \"h\", \"showlegend\": true, \"text\": [28.45], \"textposition\": \"outside\", \"texttemplate\": \"%{text}\", \"type\": \"bar\", \"x\": [28.45], \"xaxis\": \"x\", \"y\": [\"asp\"], \"yaxis\": \"y\"}, {\"alignmentgroup\": \"True\", \"customdata\": [[\"django\", 29.7]], \"hoverlabel\": {\"namelength\": 0}, \"hovertemplate\": \"framework=%{customdata[0]}<br>percentage=%{text}\", \"legendgroup\": \"framework=django\", \"marker\": {\"color\": \"#FF6692\"}, \"name\": \"framework=django\", \"offsetgroup\": \"framework=django\", \"orientation\": \"h\", \"showlegend\": true, \"text\": [29.7], \"textposition\": \"outside\", \"texttemplate\": \"%{text}\", \"type\": \"bar\", \"x\": [29.7], \"xaxis\": \"x\", \"y\": [\"django\"], \"yaxis\": \"y\"}, {\"alignmentgroup\": \"True\", \"customdata\": [[\"vue\", 0.41]], \"hoverlabel\": {\"namelength\": 0}, \"hovertemplate\": \"framework=%{customdata[0]}<br>percentage=%{text}\", \"legendgroup\": \"framework=vue\", \"marker\": {\"color\": \"#B6E880\"}, \"name\": \"framework=vue\", \"offsetgroup\": \"framework=vue\", \"orientation\": \"h\", \"showlegend\": true, \"text\": [0.41], \"textposition\": \"outside\", \"texttemplate\": \"%{text}\", \"type\": \"bar\", \"x\": [0.41], \"xaxis\": \"x\", \"y\": [\"vue\"], \"yaxis\": \"y\"}, {\"alignmentgroup\": \"True\", \"customdata\": [[\"express\", 0.57]], \"hoverlabel\": {\"namelength\": 0}, \"hovertemplate\": \"framework=%{customdata[0]}<br>percentage=%{text}\", \"legendgroup\": \"framework=express\", \"marker\": {\"color\": \"#FF97FF\"}, \"name\": \"framework=express\", \"offsetgroup\": \"framework=express\", \"orientation\": \"h\", \"showlegend\": true, \"text\": [0.57], \"textposition\": \"outside\", \"texttemplate\": \"%{text}\", \"type\": \"bar\", \"x\": [0.57], \"xaxis\": \"x\", \"y\": [\"express\"], \"yaxis\": \"y\"}, {\"alignmentgroup\": \"True\", \"customdata\": [[\"node\", 2.07]], \"hoverlabel\": {\"namelength\": 0}, \"hovertemplate\": \"framework=%{customdata[0]}<br>percentage=%{text}\", \"legendgroup\": \"framework=node\", \"marker\": {\"color\": \"#FECB52\"}, \"name\": \"framework=node\", \"offsetgroup\": \"framework=node\", \"orientation\": \"h\", \"showlegend\": true, \"text\": [2.07], \"textposition\": \"outside\", \"texttemplate\": \"%{text}\", \"type\": \"bar\", \"x\": [2.07], \"xaxis\": \"x\", \"y\": [\"node\"], \"yaxis\": \"y\"}],\n",
              "                        {\"barmode\": \"relative\", \"height\": 400, \"legend\": {\"tracegroupgap\": 0}, \"template\": {\"data\": {\"bar\": [{\"error_x\": {\"color\": \"#2a3f5f\"}, \"error_y\": {\"color\": \"#2a3f5f\"}, \"marker\": {\"line\": {\"color\": \"#E5ECF6\", \"width\": 0.5}}, \"type\": \"bar\"}], \"barpolar\": [{\"marker\": {\"line\": {\"color\": \"#E5ECF6\", \"width\": 0.5}}, \"type\": \"barpolar\"}], \"carpet\": [{\"aaxis\": {\"endlinecolor\": \"#2a3f5f\", \"gridcolor\": \"white\", \"linecolor\": \"white\", \"minorgridcolor\": \"white\", \"startlinecolor\": \"#2a3f5f\"}, \"baxis\": {\"endlinecolor\": \"#2a3f5f\", \"gridcolor\": \"white\", \"linecolor\": \"white\", \"minorgridcolor\": \"white\", \"startlinecolor\": \"#2a3f5f\"}, \"type\": \"carpet\"}], \"choropleth\": [{\"colorbar\": {\"outlinewidth\": 0, \"ticks\": \"\"}, \"type\": \"choropleth\"}], \"contour\": [{\"colorbar\": {\"outlinewidth\": 0, \"ticks\": \"\"}, \"colorscale\": [[0.0, \"#0d0887\"], [0.1111111111111111, \"#46039f\"], [0.2222222222222222, \"#7201a8\"], [0.3333333333333333, \"#9c179e\"], [0.4444444444444444, \"#bd3786\"], [0.5555555555555556, \"#d8576b\"], [0.6666666666666666, \"#ed7953\"], [0.7777777777777778, \"#fb9f3a\"], [0.8888888888888888, \"#fdca26\"], [1.0, \"#f0f921\"]], \"type\": \"contour\"}], \"contourcarpet\": [{\"colorbar\": {\"outlinewidth\": 0, \"ticks\": \"\"}, \"type\": \"contourcarpet\"}], \"heatmap\": [{\"colorbar\": {\"outlinewidth\": 0, \"ticks\": \"\"}, \"colorscale\": [[0.0, \"#0d0887\"], [0.1111111111111111, \"#46039f\"], [0.2222222222222222, \"#7201a8\"], [0.3333333333333333, \"#9c179e\"], [0.4444444444444444, \"#bd3786\"], [0.5555555555555556, \"#d8576b\"], [0.6666666666666666, \"#ed7953\"], [0.7777777777777778, \"#fb9f3a\"], [0.8888888888888888, \"#fdca26\"], [1.0, \"#f0f921\"]], \"type\": \"heatmap\"}], \"heatmapgl\": [{\"colorbar\": {\"outlinewidth\": 0, \"ticks\": \"\"}, \"colorscale\": [[0.0, \"#0d0887\"], [0.1111111111111111, \"#46039f\"], [0.2222222222222222, \"#7201a8\"], [0.3333333333333333, \"#9c179e\"], [0.4444444444444444, \"#bd3786\"], [0.5555555555555556, \"#d8576b\"], [0.6666666666666666, \"#ed7953\"], [0.7777777777777778, \"#fb9f3a\"], [0.8888888888888888, \"#fdca26\"], [1.0, \"#f0f921\"]], \"type\": \"heatmapgl\"}], \"histogram\": [{\"marker\": {\"colorbar\": {\"outlinewidth\": 0, \"ticks\": \"\"}}, \"type\": \"histogram\"}], \"histogram2d\": [{\"colorbar\": {\"outlinewidth\": 0, \"ticks\": \"\"}, \"colorscale\": [[0.0, \"#0d0887\"], [0.1111111111111111, \"#46039f\"], [0.2222222222222222, \"#7201a8\"], [0.3333333333333333, \"#9c179e\"], [0.4444444444444444, \"#bd3786\"], [0.5555555555555556, \"#d8576b\"], [0.6666666666666666, \"#ed7953\"], [0.7777777777777778, \"#fb9f3a\"], [0.8888888888888888, \"#fdca26\"], [1.0, \"#f0f921\"]], \"type\": \"histogram2d\"}], \"histogram2dcontour\": [{\"colorbar\": {\"outlinewidth\": 0, \"ticks\": \"\"}, \"colorscale\": [[0.0, \"#0d0887\"], [0.1111111111111111, \"#46039f\"], [0.2222222222222222, \"#7201a8\"], [0.3333333333333333, \"#9c179e\"], [0.4444444444444444, \"#bd3786\"], [0.5555555555555556, \"#d8576b\"], [0.6666666666666666, \"#ed7953\"], [0.7777777777777778, \"#fb9f3a\"], [0.8888888888888888, \"#fdca26\"], [1.0, \"#f0f921\"]], \"type\": \"histogram2dcontour\"}], \"mesh3d\": [{\"colorbar\": {\"outlinewidth\": 0, \"ticks\": \"\"}, \"type\": \"mesh3d\"}], \"parcoords\": [{\"line\": {\"colorbar\": {\"outlinewidth\": 0, \"ticks\": \"\"}}, \"type\": \"parcoords\"}], \"pie\": [{\"automargin\": true, \"type\": \"pie\"}], \"scatter\": [{\"marker\": {\"colorbar\": {\"outlinewidth\": 0, \"ticks\": \"\"}}, \"type\": \"scatter\"}], \"scatter3d\": [{\"line\": {\"colorbar\": {\"outlinewidth\": 0, \"ticks\": \"\"}}, \"marker\": {\"colorbar\": {\"outlinewidth\": 0, \"ticks\": \"\"}}, \"type\": \"scatter3d\"}], \"scattercarpet\": [{\"marker\": {\"colorbar\": {\"outlinewidth\": 0, \"ticks\": \"\"}}, \"type\": \"scattercarpet\"}], \"scattergeo\": [{\"marker\": {\"colorbar\": {\"outlinewidth\": 0, \"ticks\": \"\"}}, \"type\": \"scattergeo\"}], \"scattergl\": [{\"marker\": {\"colorbar\": {\"outlinewidth\": 0, \"ticks\": \"\"}}, \"type\": \"scattergl\"}], \"scattermapbox\": [{\"marker\": {\"colorbar\": {\"outlinewidth\": 0, \"ticks\": \"\"}}, \"type\": \"scattermapbox\"}], \"scatterpolar\": [{\"marker\": {\"colorbar\": {\"outlinewidth\": 0, \"ticks\": \"\"}}, \"type\": \"scatterpolar\"}], \"scatterpolargl\": [{\"marker\": {\"colorbar\": {\"outlinewidth\": 0, \"ticks\": \"\"}}, \"type\": \"scatterpolargl\"}], \"scatterternary\": [{\"marker\": {\"colorbar\": {\"outlinewidth\": 0, \"ticks\": \"\"}}, \"type\": \"scatterternary\"}], \"surface\": [{\"colorbar\": {\"outlinewidth\": 0, \"ticks\": \"\"}, \"colorscale\": [[0.0, \"#0d0887\"], [0.1111111111111111, \"#46039f\"], [0.2222222222222222, \"#7201a8\"], [0.3333333333333333, \"#9c179e\"], [0.4444444444444444, \"#bd3786\"], [0.5555555555555556, \"#d8576b\"], [0.6666666666666666, \"#ed7953\"], [0.7777777777777778, \"#fb9f3a\"], [0.8888888888888888, \"#fdca26\"], [1.0, \"#f0f921\"]], \"type\": \"surface\"}], \"table\": [{\"cells\": {\"fill\": {\"color\": \"#EBF0F8\"}, \"line\": {\"color\": \"white\"}}, \"header\": {\"fill\": {\"color\": \"#C8D4E3\"}, \"line\": {\"color\": \"white\"}}, \"type\": \"table\"}]}, \"layout\": {\"annotationdefaults\": {\"arrowcolor\": \"#2a3f5f\", \"arrowhead\": 0, \"arrowwidth\": 1}, \"coloraxis\": {\"colorbar\": {\"outlinewidth\": 0, \"ticks\": \"\"}}, \"colorscale\": {\"diverging\": [[0, \"#8e0152\"], [0.1, \"#c51b7d\"], [0.2, \"#de77ae\"], [0.3, \"#f1b6da\"], [0.4, \"#fde0ef\"], [0.5, \"#f7f7f7\"], [0.6, \"#e6f5d0\"], [0.7, \"#b8e186\"], [0.8, \"#7fbc41\"], [0.9, \"#4d9221\"], [1, \"#276419\"]], \"sequential\": [[0.0, \"#0d0887\"], [0.1111111111111111, \"#46039f\"], [0.2222222222222222, \"#7201a8\"], [0.3333333333333333, \"#9c179e\"], [0.4444444444444444, \"#bd3786\"], [0.5555555555555556, \"#d8576b\"], [0.6666666666666666, \"#ed7953\"], [0.7777777777777778, \"#fb9f3a\"], [0.8888888888888888, \"#fdca26\"], [1.0, \"#f0f921\"]], \"sequentialminus\": [[0.0, \"#0d0887\"], [0.1111111111111111, \"#46039f\"], [0.2222222222222222, \"#7201a8\"], [0.3333333333333333, \"#9c179e\"], [0.4444444444444444, \"#bd3786\"], [0.5555555555555556, \"#d8576b\"], [0.6666666666666666, \"#ed7953\"], [0.7777777777777778, \"#fb9f3a\"], [0.8888888888888888, \"#fdca26\"], [1.0, \"#f0f921\"]]}, \"colorway\": [\"#636efa\", \"#EF553B\", \"#00cc96\", \"#ab63fa\", \"#FFA15A\", \"#19d3f3\", \"#FF6692\", \"#B6E880\", \"#FF97FF\", \"#FECB52\"], \"font\": {\"color\": \"#2a3f5f\"}, \"geo\": {\"bgcolor\": \"white\", \"lakecolor\": \"white\", \"landcolor\": \"#E5ECF6\", \"showlakes\": true, \"showland\": true, \"subunitcolor\": \"white\"}, \"hoverlabel\": {\"align\": \"left\"}, \"hovermode\": \"closest\", \"mapbox\": {\"style\": \"light\"}, \"paper_bgcolor\": \"white\", \"plot_bgcolor\": \"#E5ECF6\", \"polar\": {\"angularaxis\": {\"gridcolor\": \"white\", \"linecolor\": \"white\", \"ticks\": \"\"}, \"bgcolor\": \"#E5ECF6\", \"radialaxis\": {\"gridcolor\": \"white\", \"linecolor\": \"white\", \"ticks\": \"\"}}, \"scene\": {\"xaxis\": {\"backgroundcolor\": \"#E5ECF6\", \"gridcolor\": \"white\", \"gridwidth\": 2, \"linecolor\": \"white\", \"showbackground\": true, \"ticks\": \"\", \"zerolinecolor\": \"white\"}, \"yaxis\": {\"backgroundcolor\": \"#E5ECF6\", \"gridcolor\": \"white\", \"gridwidth\": 2, \"linecolor\": \"white\", \"showbackground\": true, \"ticks\": \"\", \"zerolinecolor\": \"white\"}, \"zaxis\": {\"backgroundcolor\": \"#E5ECF6\", \"gridcolor\": \"white\", \"gridwidth\": 2, \"linecolor\": \"white\", \"showbackground\": true, \"ticks\": \"\", \"zerolinecolor\": \"white\"}}, \"shapedefaults\": {\"line\": {\"color\": \"#2a3f5f\"}}, \"ternary\": {\"aaxis\": {\"gridcolor\": \"white\", \"linecolor\": \"white\", \"ticks\": \"\"}, \"baxis\": {\"gridcolor\": \"white\", \"linecolor\": \"white\", \"ticks\": \"\"}, \"bgcolor\": \"#E5ECF6\", \"caxis\": {\"gridcolor\": \"white\", \"linecolor\": \"white\", \"ticks\": \"\"}}, \"title\": {\"x\": 0.05}, \"xaxis\": {\"automargin\": true, \"gridcolor\": \"white\", \"linecolor\": \"white\", \"ticks\": \"\", \"title\": {\"standoff\": 15}, \"zerolinecolor\": \"white\", \"zerolinewidth\": 2}, \"yaxis\": {\"automargin\": true, \"gridcolor\": \"white\", \"linecolor\": \"white\", \"ticks\": \"\", \"title\": {\"standoff\": 15}, \"zerolinecolor\": \"white\", \"zerolinewidth\": 2}}}, \"title\": {\"text\": \"Mentions of each web development framework in tweets\"}, \"xaxis\": {\"anchor\": \"y\", \"domain\": [0.0, 1.0], \"title\": {\"text\": \"percentage\"}}, \"yaxis\": {\"anchor\": \"x\", \"categoryarray\": [\"node\", \"express\", \"vue\", \"django\", \"asp\", \"rails\", \"laravel\", \"cakephp\", \"angular\", \"react\"], \"categoryorder\": \"array\", \"domain\": [0.0, 1.0], \"title\": {\"text\": \"framework\"}}},\n",
              "                        {\"responsive\": true}\n",
              "                    ).then(function(){\n",
              "                            \n",
              "var gd = document.getElementById('71bf69fd-f2e3-4db3-969b-b12bf48bed30');\n",
              "var x = new MutationObserver(function (mutations, observer) {{\n",
              "        var display = window.getComputedStyle(gd).display;\n",
              "        if (!display || display === 'none') {{\n",
              "            console.log([gd, 'removed!']);\n",
              "            Plotly.purge(gd);\n",
              "            observer.disconnect();\n",
              "        }}\n",
              "}});\n",
              "\n",
              "// Listen for the removal of the full notebook cells\n",
              "var notebookContainer = gd.closest('#notebook-container');\n",
              "if (notebookContainer) {{\n",
              "    x.observe(notebookContainer, {childList: true});\n",
              "}}\n",
              "\n",
              "// Listen for the clearing of the current output cell\n",
              "var outputEl = gd.closest('.output');\n",
              "if (outputEl) {{\n",
              "    x.observe(outputEl, {childList: true});\n",
              "}}\n",
              "\n",
              "                        })\n",
              "                };\n",
              "                \n",
              "            </script>\n",
              "        </div>\n",
              "</body>\n",
              "</html>"
            ]
          },
          "metadata": {
            "tags": []
          }
        }
      ]
    }
  ]
}